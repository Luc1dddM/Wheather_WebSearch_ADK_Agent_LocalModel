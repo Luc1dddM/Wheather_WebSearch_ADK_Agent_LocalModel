{
  "nbformat": 4,
  "nbformat_minor": 0,
  "metadata": {
    "colab": {
      "provenance": [],
      "gpuType": "T4",
      "authorship_tag": "ABX9TyNeOjvcSXdtIy22qpJKvVFE",
      "include_colab_link": true
    },
    "kernelspec": {
      "name": "python3",
      "display_name": "Python 3"
    },
    "language_info": {
      "name": "python"
    },
    "accelerator": "GPU"
  },
  "cells": [
    {
      "cell_type": "markdown",
      "metadata": {
        "id": "view-in-github",
        "colab_type": "text"
      },
      "source": [
        "<a href=\"https://colab.research.google.com/github/Luc1dddM/Wheather_WebSearch_ADK_Agent_LocalModel/blob/main/Wheather_Web_Search_Agetnt_Team.ipynb\" target=\"_parent\"><img src=\"https://colab.research.google.com/assets/colab-badge.svg\" alt=\"Open In Colab\"/></a>"
      ]
    },
    {
      "cell_type": "code",
      "execution_count": null,
      "metadata": {
        "colab": {
          "base_uri": "https://localhost:8080/"
        },
        "id": "7zEuB2_4DqOG",
        "outputId": "b6388e76-e908-46b9-920b-6725d2d343ec"
      },
      "outputs": [
        {
          "output_type": "stream",
          "name": "stdout",
          "text": [
            "Requirement already satisfied: playwright in /usr/local/lib/python3.11/dist-packages (1.52.0)\n",
            "Requirement already satisfied: pyee<14,>=13 in /usr/local/lib/python3.11/dist-packages (from playwright) (13.0.0)\n",
            "Requirement already satisfied: greenlet<4.0.0,>=3.1.1 in /usr/local/lib/python3.11/dist-packages (from playwright) (3.2.3)\n",
            "Requirement already satisfied: typing-extensions in /usr/local/lib/python3.11/dist-packages (from pyee<14,>=13->playwright) (4.14.0)\n",
            "Downloading Chromium 136.0.7103.25 (playwright build v1169)\u001b[2m from https://cdn.playwright.dev/dbazure/download/playwright/builds/chromium/1169/chromium-linux.zip\u001b[22m\n",
            "\u001b[1G167.7 MiB [] 0% 0.0s\u001b[0K\u001b[1G167.7 MiB [] 0% 32.8s\u001b[0K\u001b[1G167.7 MiB [] 0% 14.5s\u001b[0K\u001b[1G167.7 MiB [] 0% 6.5s\u001b[0K\u001b[1G167.7 MiB [] 1% 6.1s\u001b[0K\u001b[1G167.7 MiB [] 1% 5.8s\u001b[0K\u001b[1G167.7 MiB [] 2% 5.2s\u001b[0K\u001b[1G167.7 MiB [] 2% 4.9s\u001b[0K\u001b[1G167.7 MiB [] 3% 4.2s\u001b[0K\u001b[1G167.7 MiB [] 4% 3.9s\u001b[0K\u001b[1G167.7 MiB [] 4% 4.1s\u001b[0K\u001b[1G167.7 MiB [] 5% 4.1s\u001b[0K\u001b[1G167.7 MiB [] 6% 4.0s\u001b[0K\u001b[1G167.7 MiB [] 6% 3.7s\u001b[0K\u001b[1G167.7 MiB [] 7% 3.8s\u001b[0K\u001b[1G167.7 MiB [] 8% 3.6s\u001b[0K\u001b[1G167.7 MiB [] 8% 3.7s\u001b[0K\u001b[1G167.7 MiB [] 9% 3.5s\u001b[0K\u001b[1G167.7 MiB [] 10% 3.5s\u001b[0K\u001b[1G167.7 MiB [] 11% 3.3s\u001b[0K\u001b[1G167.7 MiB [] 11% 3.4s\u001b[0K\u001b[1G167.7 MiB [] 12% 3.2s\u001b[0K\u001b[1G167.7 MiB [] 13% 3.3s\u001b[0K\u001b[1G167.7 MiB [] 14% 3.2s\u001b[0K\u001b[1G167.7 MiB [] 15% 3.2s\u001b[0K\u001b[1G167.7 MiB [] 16% 3.2s\u001b[0K\u001b[1G167.7 MiB [] 17% 3.3s\u001b[0K\u001b[1G167.7 MiB [] 19% 3.3s\u001b[0K\u001b[1G167.7 MiB [] 20% 3.4s\u001b[0K\u001b[1G167.7 MiB [] 21% 3.4s\u001b[0K\u001b[1G167.7 MiB [] 22% 3.4s\u001b[0K\u001b[1G167.7 MiB [] 23% 3.3s\u001b[0K\u001b[1G167.7 MiB [] 24% 3.3s\u001b[0K\u001b[1G167.7 MiB [] 25% 3.3s\u001b[0K\u001b[1G167.7 MiB [] 25% 3.2s\u001b[0K\u001b[1G167.7 MiB [] 26% 3.3s\u001b[0K\u001b[1G167.7 MiB [] 27% 3.2s\u001b[0K\u001b[1G167.7 MiB [] 28% 3.2s\u001b[0K\u001b[1G167.7 MiB [] 29% 3.1s\u001b[0K\u001b[1G167.7 MiB [] 30% 3.0s\u001b[0K\u001b[1G167.7 MiB [] 31% 3.0s\u001b[0K\u001b[1G167.7 MiB [] 32% 3.0s\u001b[0K\u001b[1G167.7 MiB [] 33% 3.0s\u001b[0K\u001b[1G167.7 MiB [] 34% 3.1s\u001b[0K\u001b[1G167.7 MiB [] 35% 3.0s\u001b[0K\u001b[1G167.7 MiB [] 36% 3.0s\u001b[0K\u001b[1G167.7 MiB [] 38% 2.9s\u001b[0K\u001b[1G167.7 MiB [] 39% 2.9s\u001b[0K\u001b[1G167.7 MiB [] 40% 2.8s\u001b[0K\u001b[1G167.7 MiB [] 41% 2.8s\u001b[0K\u001b[1G167.7 MiB [] 42% 2.7s\u001b[0K\u001b[1G167.7 MiB [] 44% 2.7s\u001b[0K\u001b[1G167.7 MiB [] 44% 2.6s\u001b[0K\u001b[1G167.7 MiB [] 45% 2.6s\u001b[0K\u001b[1G167.7 MiB [] 46% 2.5s\u001b[0K\u001b[1G167.7 MiB [] 47% 2.4s\u001b[0K\u001b[1G167.7 MiB [] 48% 2.4s\u001b[0K\u001b[1G167.7 MiB [] 49% 2.3s\u001b[0K\u001b[1G167.7 MiB [] 50% 2.3s\u001b[0K\u001b[1G167.7 MiB [] 51% 2.2s\u001b[0K\u001b[1G167.7 MiB [] 52% 2.2s\u001b[0K\u001b[1G167.7 MiB [] 52% 2.1s\u001b[0K\u001b[1G167.7 MiB [] 53% 2.1s\u001b[0K\u001b[1G167.7 MiB [] 54% 2.1s\u001b[0K\u001b[1G167.7 MiB [] 55% 2.0s\u001b[0K\u001b[1G167.7 MiB [] 56% 2.0s\u001b[0K\u001b[1G167.7 MiB [] 56% 1.9s\u001b[0K\u001b[1G167.7 MiB [] 57% 1.9s\u001b[0K\u001b[1G167.7 MiB [] 58% 1.9s\u001b[0K\u001b[1G167.7 MiB [] 59% 1.8s\u001b[0K\u001b[1G167.7 MiB [] 60% 1.7s\u001b[0K\u001b[1G167.7 MiB [] 61% 1.7s\u001b[0K\u001b[1G167.7 MiB [] 62% 1.7s\u001b[0K\u001b[1G167.7 MiB [] 62% 1.6s\u001b[0K\u001b[1G167.7 MiB [] 63% 1.6s\u001b[0K\u001b[1G167.7 MiB [] 64% 1.5s\u001b[0K\u001b[1G167.7 MiB [] 65% 1.5s\u001b[0K\u001b[1G167.7 MiB [] 66% 1.4s\u001b[0K\u001b[1G167.7 MiB [] 67% 1.4s\u001b[0K\u001b[1G167.7 MiB [] 69% 1.3s\u001b[0K\u001b[1G167.7 MiB [] 70% 1.3s\u001b[0K\u001b[1G167.7 MiB [] 71% 1.2s\u001b[0K\u001b[1G167.7 MiB [] 72% 1.2s\u001b[0K\u001b[1G167.7 MiB [] 73% 1.1s\u001b[0K\u001b[1G167.7 MiB [] 75% 1.1s\u001b[0K\u001b[1G167.7 MiB [] 75% 1.0s\u001b[0K\u001b[1G167.7 MiB [] 76% 1.0s\u001b[0K\u001b[1G167.7 MiB [] 77% 0.9s\u001b[0K\u001b[1G167.7 MiB [] 78% 0.9s\u001b[0K\u001b[1G167.7 MiB [] 79% 0.9s\u001b[0K\u001b[1G167.7 MiB [] 79% 0.8s\u001b[0K\u001b[1G167.7 MiB [] 81% 0.8s\u001b[0K\u001b[1G167.7 MiB [] 82% 0.7s\u001b[0K\u001b[1G167.7 MiB [] 83% 0.7s\u001b[0K\u001b[1G167.7 MiB [] 84% 0.7s\u001b[0K\u001b[1G167.7 MiB [] 84% 0.6s\u001b[0K\u001b[1G167.7 MiB [] 85% 0.6s\u001b[0K\u001b[1G167.7 MiB [] 87% 0.5s\u001b[0K\u001b[1G167.7 MiB [] 88% 0.5s\u001b[0K\u001b[1G167.7 MiB [] 89% 0.4s\u001b[0K\u001b[1G167.7 MiB [] 90% 0.4s\u001b[0K\u001b[1G167.7 MiB [] 91% 0.3s\u001b[0K\u001b[1G167.7 MiB [] 93% 0.3s\u001b[0K\u001b[1G167.7 MiB [] 94% 0.2s\u001b[0K\u001b[1G167.7 MiB [] 95% 0.2s\u001b[0K\u001b[1G167.7 MiB [] 96% 0.2s\u001b[0K\u001b[1G167.7 MiB [] 96% 0.1s\u001b[0K\u001b[1G167.7 MiB [] 97% 0.1s\u001b[0K\u001b[1G167.7 MiB [] 99% 0.0s\u001b[0K\u001b[1G167.7 MiB [] 100% 0.0s\u001b[0K\n",
            "Chromium 136.0.7103.25 (playwright build v1169) downloaded to /root/.cache/ms-playwright/chromium-1169\n",
            "Downloading Chromium Headless Shell 136.0.7103.25 (playwright build v1169)\u001b[2m from https://cdn.playwright.dev/dbazure/download/playwright/builds/chromium/1169/chromium-headless-shell-linux.zip\u001b[22m\n",
            "\u001b[1G101.4 MiB [] 0% 0.0s\u001b[0K\u001b[1G101.4 MiB [] 0% 19.8s\u001b[0K\u001b[1G101.4 MiB [] 0% 8.8s\u001b[0K\u001b[1G101.4 MiB [] 1% 4.1s\u001b[0K\u001b[1G101.4 MiB [] 2% 3.1s\u001b[0K\u001b[1G101.4 MiB [] 3% 2.4s\u001b[0K\u001b[1G101.4 MiB [] 3% 2.8s\u001b[0K\u001b[1G101.4 MiB [] 4% 3.2s\u001b[0K\u001b[1G101.4 MiB [] 5% 2.9s\u001b[0K\u001b[1G101.4 MiB [] 6% 2.8s\u001b[0K\u001b[1G101.4 MiB [] 7% 2.3s\u001b[0K\u001b[1G101.4 MiB [] 8% 2.3s\u001b[0K\u001b[1G101.4 MiB [] 9% 2.4s\u001b[0K\u001b[1G101.4 MiB [] 9% 2.5s\u001b[0K\u001b[1G101.4 MiB [] 9% 2.8s\u001b[0K\u001b[1G101.4 MiB [] 10% 2.8s\u001b[0K\u001b[1G101.4 MiB [] 11% 2.7s\u001b[0K\u001b[1G101.4 MiB [] 12% 2.7s\u001b[0K\u001b[1G101.4 MiB [] 13% 2.5s\u001b[0K\u001b[1G101.4 MiB [] 14% 2.5s\u001b[0K\u001b[1G101.4 MiB [] 15% 2.4s\u001b[0K\u001b[1G101.4 MiB [] 15% 2.5s\u001b[0K\u001b[1G101.4 MiB [] 16% 2.4s\u001b[0K\u001b[1G101.4 MiB [] 17% 2.3s\u001b[0K\u001b[1G101.4 MiB [] 18% 2.3s\u001b[0K\u001b[1G101.4 MiB [] 19% 2.6s\u001b[0K\u001b[1G101.4 MiB [] 19% 2.7s\u001b[0K\u001b[1G101.4 MiB [] 20% 2.7s\u001b[0K\u001b[1G101.4 MiB [] 21% 2.6s\u001b[0K\u001b[1G101.4 MiB [] 22% 2.6s\u001b[0K\u001b[1G101.4 MiB [] 23% 2.5s\u001b[0K\u001b[1G101.4 MiB [] 24% 2.4s\u001b[0K\u001b[1G101.4 MiB [] 25% 2.3s\u001b[0K\u001b[1G101.4 MiB [] 26% 2.2s\u001b[0K\u001b[1G101.4 MiB [] 27% 2.2s\u001b[0K\u001b[1G101.4 MiB [] 29% 2.1s\u001b[0K\u001b[1G101.4 MiB [] 30% 2.0s\u001b[0K\u001b[1G101.4 MiB [] 31% 2.0s\u001b[0K\u001b[1G101.4 MiB [] 32% 1.9s\u001b[0K\u001b[1G101.4 MiB [] 33% 1.9s\u001b[0K\u001b[1G101.4 MiB [] 35% 1.8s\u001b[0K\u001b[1G101.4 MiB [] 36% 1.7s\u001b[0K\u001b[1G101.4 MiB [] 38% 1.7s\u001b[0K\u001b[1G101.4 MiB [] 39% 1.6s\u001b[0K\u001b[1G101.4 MiB [] 40% 1.5s\u001b[0K\u001b[1G101.4 MiB [] 41% 1.5s\u001b[0K\u001b[1G101.4 MiB [] 42% 1.5s\u001b[0K\u001b[1G101.4 MiB [] 43% 1.4s\u001b[0K\u001b[1G101.4 MiB [] 44% 1.4s\u001b[0K\u001b[1G101.4 MiB [] 45% 1.4s\u001b[0K\u001b[1G101.4 MiB [] 47% 1.3s\u001b[0K\u001b[1G101.4 MiB [] 48% 1.3s\u001b[0K\u001b[1G101.4 MiB [] 49% 1.3s\u001b[0K\u001b[1G101.4 MiB [] 50% 1.2s\u001b[0K\u001b[1G101.4 MiB [] 51% 1.2s\u001b[0K\u001b[1G101.4 MiB [] 52% 1.2s\u001b[0K\u001b[1G101.4 MiB [] 53% 1.2s\u001b[0K\u001b[1G101.4 MiB [] 55% 1.1s\u001b[0K\u001b[1G101.4 MiB [] 56% 1.1s\u001b[0K\u001b[1G101.4 MiB [] 57% 1.1s\u001b[0K\u001b[1G101.4 MiB [] 59% 1.0s\u001b[0K\u001b[1G101.4 MiB [] 60% 1.0s\u001b[0K\u001b[1G101.4 MiB [] 61% 0.9s\u001b[0K\u001b[1G101.4 MiB [] 63% 0.9s\u001b[0K\u001b[1G101.4 MiB [] 65% 0.9s\u001b[0K\u001b[1G101.4 MiB [] 67% 0.8s\u001b[0K\u001b[1G101.4 MiB [] 69% 0.7s\u001b[0K\u001b[1G101.4 MiB [] 70% 0.7s\u001b[0K\u001b[1G101.4 MiB [] 71% 0.7s\u001b[0K\u001b[1G101.4 MiB [] 72% 0.6s\u001b[0K\u001b[1G101.4 MiB [] 74% 0.6s\u001b[0K\u001b[1G101.4 MiB [] 75% 0.6s\u001b[0K\u001b[1G101.4 MiB [] 76% 0.5s\u001b[0K\u001b[1G101.4 MiB [] 78% 0.5s\u001b[0K\u001b[1G101.4 MiB [] 80% 0.4s\u001b[0K\u001b[1G101.4 MiB [] 81% 0.4s\u001b[0K\u001b[1G101.4 MiB [] 82% 0.4s\u001b[0K\u001b[1G101.4 MiB [] 83% 0.4s\u001b[0K\u001b[1G101.4 MiB [] 84% 0.4s\u001b[0K\u001b[1G101.4 MiB [] 84% 0.3s\u001b[0K\u001b[1G101.4 MiB [] 85% 0.3s\u001b[0K\u001b[1G101.4 MiB [] 86% 0.3s\u001b[0K\u001b[1G101.4 MiB [] 88% 0.3s\u001b[0K\u001b[1G101.4 MiB [] 89% 0.2s\u001b[0K\u001b[1G101.4 MiB [] 90% 0.2s\u001b[0K\u001b[1G101.4 MiB [] 91% 0.2s\u001b[0K\u001b[1G101.4 MiB [] 92% 0.2s\u001b[0K\u001b[1G101.4 MiB [] 93% 0.2s\u001b[0K\u001b[1G101.4 MiB [] 93% 0.1s\u001b[0K\u001b[1G101.4 MiB [] 94% 0.1s\u001b[0K\u001b[1G101.4 MiB [] 95% 0.1s\u001b[0K\u001b[1G101.4 MiB [] 96% 0.1s\u001b[0K\u001b[1G101.4 MiB [] 97% 0.1s\u001b[0K\u001b[1G101.4 MiB [] 98% 0.0s\u001b[0K\u001b[1G101.4 MiB [] 100% 0.0s\u001b[0K\n",
            "Chromium Headless Shell 136.0.7103.25 (playwright build v1169) downloaded to /root/.cache/ms-playwright/chromium_headless_shell-1169\n",
            "Downloading Firefox 137.0 (playwright build v1482)\u001b[2m from https://cdn.playwright.dev/dbazure/download/playwright/builds/firefox/1482/firefox-ubuntu-22.04.zip\u001b[22m\n",
            "\u001b[1G91 MiB [] 0% 0.0s\u001b[0K\u001b[1G91 MiB [] 0% 17.8s\u001b[0K\u001b[1G91 MiB [] 0% 8.1s\u001b[0K\u001b[1G91 MiB [] 1% 3.8s\u001b[0K\u001b[1G91 MiB [] 2% 2.9s\u001b[0K\u001b[1G91 MiB [] 3% 2.2s\u001b[0K\u001b[1G91 MiB [] 4% 2.1s\u001b[0K\u001b[1G91 MiB [] 5% 2.1s\u001b[0K\u001b[1G91 MiB [] 5% 2.3s\u001b[0K\u001b[1G91 MiB [] 6% 2.3s\u001b[0K\u001b[1G91 MiB [] 6% 2.4s\u001b[0K\u001b[1G91 MiB [] 6% 2.6s\u001b[0K\u001b[1G91 MiB [] 7% 2.6s\u001b[0K\u001b[1G91 MiB [] 8% 2.4s\u001b[0K\u001b[1G91 MiB [] 8% 2.5s\u001b[0K\u001b[1G91 MiB [] 9% 2.4s\u001b[0K\u001b[1G91 MiB [] 11% 2.2s\u001b[0K\u001b[1G91 MiB [] 12% 2.0s\u001b[0K\u001b[1G91 MiB [] 13% 2.0s\u001b[0K\u001b[1G91 MiB [] 15% 1.8s\u001b[0K\u001b[1G91 MiB [] 16% 1.7s\u001b[0K\u001b[1G91 MiB [] 18% 1.5s\u001b[0K\u001b[1G91 MiB [] 20% 1.5s\u001b[0K\u001b[1G91 MiB [] 21% 1.5s\u001b[0K\u001b[1G91 MiB [] 22% 1.5s\u001b[0K\u001b[1G91 MiB [] 23% 1.4s\u001b[0K\u001b[1G91 MiB [] 24% 1.5s\u001b[0K\u001b[1G91 MiB [] 24% 1.6s\u001b[0K\u001b[1G91 MiB [] 25% 1.5s\u001b[0K\u001b[1G91 MiB [] 26% 1.5s\u001b[0K\u001b[1G91 MiB [] 27% 1.5s\u001b[0K\u001b[1G91 MiB [] 28% 1.5s\u001b[0K\u001b[1G91 MiB [] 30% 1.4s\u001b[0K\u001b[1G91 MiB [] 30% 1.5s\u001b[0K\u001b[1G91 MiB [] 31% 1.5s\u001b[0K\u001b[1G91 MiB [] 32% 1.5s\u001b[0K\u001b[1G91 MiB [] 34% 1.5s\u001b[0K\u001b[1G91 MiB [] 35% 1.4s\u001b[0K\u001b[1G91 MiB [] 36% 1.4s\u001b[0K\u001b[1G91 MiB [] 38% 1.3s\u001b[0K\u001b[1G91 MiB [] 39% 1.3s\u001b[0K\u001b[1G91 MiB [] 40% 1.3s\u001b[0K\u001b[1G91 MiB [] 43% 1.2s\u001b[0K\u001b[1G91 MiB [] 46% 1.1s\u001b[0K\u001b[1G91 MiB [] 48% 1.0s\u001b[0K\u001b[1G91 MiB [] 50% 1.0s\u001b[0K\u001b[1G91 MiB [] 51% 0.9s\u001b[0K\u001b[1G91 MiB [] 52% 0.9s\u001b[0K\u001b[1G91 MiB [] 53% 0.9s\u001b[0K\u001b[1G91 MiB [] 54% 0.9s\u001b[0K\u001b[1G91 MiB [] 55% 0.9s\u001b[0K\u001b[1G91 MiB [] 56% 0.9s\u001b[0K\u001b[1G91 MiB [] 57% 0.9s\u001b[0K\u001b[1G91 MiB [] 57% 0.8s\u001b[0K\u001b[1G91 MiB [] 58% 0.8s\u001b[0K\u001b[1G91 MiB [] 59% 0.8s\u001b[0K\u001b[1G91 MiB [] 60% 0.8s\u001b[0K\u001b[1G91 MiB [] 61% 0.8s\u001b[0K\u001b[1G91 MiB [] 62% 0.8s\u001b[0K\u001b[1G91 MiB [] 63% 0.8s\u001b[0K\u001b[1G91 MiB [] 64% 0.8s\u001b[0K\u001b[1G91 MiB [] 65% 0.7s\u001b[0K\u001b[1G91 MiB [] 66% 0.7s\u001b[0K\u001b[1G91 MiB [] 68% 0.7s\u001b[0K\u001b[1G91 MiB [] 69% 0.6s\u001b[0K\u001b[1G91 MiB [] 70% 0.6s\u001b[0K\u001b[1G91 MiB [] 71% 0.6s\u001b[0K\u001b[1G91 MiB [] 72% 0.6s\u001b[0K\u001b[1G91 MiB [] 74% 0.5s\u001b[0K\u001b[1G91 MiB [] 76% 0.5s\u001b[0K\u001b[1G91 MiB [] 77% 0.5s\u001b[0K\u001b[1G91 MiB [] 79% 0.4s\u001b[0K\u001b[1G91 MiB [] 80% 0.4s\u001b[0K\u001b[1G91 MiB [] 81% 0.4s\u001b[0K\u001b[1G91 MiB [] 82% 0.4s\u001b[0K\u001b[1G91 MiB [] 83% 0.3s\u001b[0K\u001b[1G91 MiB [] 84% 0.3s\u001b[0K\u001b[1G91 MiB [] 85% 0.3s\u001b[0K\u001b[1G91 MiB [] 86% 0.3s\u001b[0K\u001b[1G91 MiB [] 89% 0.2s\u001b[0K\u001b[1G91 MiB [] 90% 0.2s\u001b[0K\u001b[1G91 MiB [] 92% 0.2s\u001b[0K\u001b[1G91 MiB [] 93% 0.1s\u001b[0K\u001b[1G91 MiB [] 94% 0.1s\u001b[0K\u001b[1G91 MiB [] 96% 0.1s\u001b[0K\u001b[1G91 MiB [] 97% 0.1s\u001b[0K\u001b[1G91 MiB [] 98% 0.0s\u001b[0K\u001b[1G91 MiB [] 99% 0.0s\u001b[0K\u001b[1G91 MiB [] 100% 0.0s\u001b[0K\n",
            "Firefox 137.0 (playwright build v1482) downloaded to /root/.cache/ms-playwright/firefox-1482\n",
            "Downloading Webkit 18.4 (playwright build v2158)\u001b[2m from https://cdn.playwright.dev/dbazure/download/playwright/builds/webkit/2158/webkit-ubuntu-22.04.zip\u001b[22m\n",
            "\u001b[1G93.8 MiB [] 0% 0.0s\u001b[0K\u001b[1G93.8 MiB [] 0% 19.2s\u001b[0K\u001b[1G93.8 MiB [] 0% 10.7s\u001b[0K\u001b[1G93.8 MiB [] 1% 4.2s\u001b[0K\u001b[1G93.8 MiB [] 2% 2.5s\u001b[0K\u001b[1G93.8 MiB [] 3% 2.1s\u001b[0K\u001b[1G93.8 MiB [] 4% 1.9s\u001b[0K\u001b[1G93.8 MiB [] 6% 1.7s\u001b[0K\u001b[1G93.8 MiB [] 7% 1.5s\u001b[0K\u001b[1G93.8 MiB [] 8% 1.5s\u001b[0K\u001b[1G93.8 MiB [] 10% 1.4s\u001b[0K\u001b[1G93.8 MiB [] 11% 1.5s\u001b[0K\u001b[1G93.8 MiB [] 12% 1.6s\u001b[0K\u001b[1G93.8 MiB [] 13% 1.6s\u001b[0K\u001b[1G93.8 MiB [] 14% 1.5s\u001b[0K\u001b[1G93.8 MiB [] 16% 1.4s\u001b[0K\u001b[1G93.8 MiB [] 17% 1.4s\u001b[0K\u001b[1G93.8 MiB [] 18% 1.4s\u001b[0K\u001b[1G93.8 MiB [] 20% 1.3s\u001b[0K\u001b[1G93.8 MiB [] 21% 1.3s\u001b[0K\u001b[1G93.8 MiB [] 23% 1.2s\u001b[0K\u001b[1G93.8 MiB [] 24% 1.2s\u001b[0K\u001b[1G93.8 MiB [] 25% 1.2s\u001b[0K\u001b[1G93.8 MiB [] 26% 1.1s\u001b[0K\u001b[1G93.8 MiB [] 28% 1.1s\u001b[0K\u001b[1G93.8 MiB [] 30% 1.0s\u001b[0K\u001b[1G93.8 MiB [] 32% 1.0s\u001b[0K\u001b[1G93.8 MiB [] 33% 0.9s\u001b[0K\u001b[1G93.8 MiB [] 36% 0.9s\u001b[0K\u001b[1G93.8 MiB [] 37% 0.9s\u001b[0K\u001b[1G93.8 MiB [] 38% 0.8s\u001b[0K\u001b[1G93.8 MiB [] 40% 0.8s\u001b[0K\u001b[1G93.8 MiB [] 41% 0.8s\u001b[0K\u001b[1G93.8 MiB [] 43% 0.7s\u001b[0K\u001b[1G93.8 MiB [] 45% 0.7s\u001b[0K\u001b[1G93.8 MiB [] 47% 0.7s\u001b[0K\u001b[1G93.8 MiB [] 49% 0.6s\u001b[0K\u001b[1G93.8 MiB [] 51% 0.6s\u001b[0K\u001b[1G93.8 MiB [] 54% 0.6s\u001b[0K\u001b[1G93.8 MiB [] 57% 0.5s\u001b[0K\u001b[1G93.8 MiB [] 59% 0.5s\u001b[0K\u001b[1G93.8 MiB [] 61% 0.4s\u001b[0K\u001b[1G93.8 MiB [] 63% 0.4s\u001b[0K\u001b[1G93.8 MiB [] 66% 0.4s\u001b[0K\u001b[1G93.8 MiB [] 67% 0.8s\u001b[0K\u001b[1G93.8 MiB [] 69% 0.7s\u001b[0K\u001b[1G93.8 MiB [] 70% 0.7s\u001b[0K\u001b[1G93.8 MiB [] 73% 0.6s\u001b[0K\u001b[1G93.8 MiB [] 76% 0.5s\u001b[0K\u001b[1G93.8 MiB [] 77% 0.5s\u001b[0K\u001b[1G93.8 MiB [] 80% 0.4s\u001b[0K\u001b[1G93.8 MiB [] 83% 0.3s\u001b[0K\u001b[1G93.8 MiB [] 86% 0.3s\u001b[0K\u001b[1G93.8 MiB [] 88% 0.2s\u001b[0K\u001b[1G93.8 MiB [] 91% 0.2s\u001b[0K\u001b[1G93.8 MiB [] 94% 0.1s\u001b[0K\u001b[1G93.8 MiB [] 97% 0.1s\u001b[0K\u001b[1G93.8 MiB [] 100% 0.0s\u001b[0K\n",
            "Webkit 18.4 (playwright build v2158) downloaded to /root/.cache/ms-playwright/webkit-2158\n",
            "Downloading FFMPEG playwright build v1011\u001b[2m from https://cdn.playwright.dev/dbazure/download/playwright/builds/ffmpeg/1011/ffmpeg-linux.zip\u001b[22m\n",
            "\u001b[1G2.3 MiB [] 0% 0.0s\u001b[0K\u001b[1G2.3 MiB [] 3% 0.5s\u001b[0K\u001b[1G2.3 MiB [] 15% 0.2s\u001b[0K\u001b[1G2.3 MiB [] 54% 0.0s\u001b[0K\u001b[1G2.3 MiB [] 100% 0.0s\u001b[0K\n",
            "FFMPEG playwright build v1011 downloaded to /root/.cache/ms-playwright/ffmpeg-1011\n",
            "Playwright Host validation warning: \n",
            "╔══════════════════════════════════════════════════════╗\n",
            "║ Host system is missing dependencies to run browsers. ║\n",
            "║ Missing libraries:                                   ║\n",
            "║     libwoff2dec.so.1.0.2                             ║\n",
            "║     libgstgl-1.0.so.0                                ║\n",
            "║     libgstcodecparsers-1.0.so.0                      ║\n",
            "║     libavif.so.13                                    ║\n",
            "║     libharfbuzz-icu.so.0                             ║\n",
            "║     libenchant-2.so.2                                ║\n",
            "║     libsecret-1.so.0                                 ║\n",
            "║     libhyphen.so.0                                   ║\n",
            "║     libmanette-0.2.so.0                              ║\n",
            "╚══════════════════════════════════════════════════════╝\n",
            "    at validateDependenciesLinux (/usr/local/lib/python3.11/dist-packages/playwright/driver/package/lib/server/registry/dependencies.js:269:9)\n",
            "    at async Registry._validateHostRequirements (/usr/local/lib/python3.11/dist-packages/playwright/driver/package/lib/server/registry/index.js:927:14)\n",
            "    at async Registry._validateHostRequirementsForExecutableIfNeeded (/usr/local/lib/python3.11/dist-packages/playwright/driver/package/lib/server/registry/index.js:1047:7)\n",
            "    at async Registry.validateHostRequirementsForExecutablesIfNeeded (/usr/local/lib/python3.11/dist-packages/playwright/driver/package/lib/server/registry/index.js:1036:7)\n",
            "    at async t.<anonymous> (/usr/local/lib/python3.11/dist-packages/playwright/driver/package/lib/cli/program.js:160:7)\n",
            "Installation complete.\n"
          ]
        }
      ],
      "source": [
        "# @title Setup and Installation\n",
        "# Install ADK and LiteLLM for multi-model support\n",
        "\n",
        "!pip install google-adk -q\n",
        "!pip install litellm -q\n",
        "!pip install playwright\n",
        "!playwright install\n",
        "\n",
        "print(\"Installation complete.\")"
      ]
    },
    {
      "cell_type": "code",
      "source": [
        "!pip install litellm"
      ],
      "metadata": {
        "colab": {
          "base_uri": "https://localhost:8080/"
        },
        "id": "s4aUbNB8DtgO",
        "outputId": "4171a33f-fe2a-42bc-d448-d57e344746d4"
      },
      "execution_count": null,
      "outputs": [
        {
          "output_type": "stream",
          "name": "stdout",
          "text": [
            "Requirement already satisfied: litellm in /usr/local/lib/python3.11/dist-packages (1.72.6.post2)\n",
            "Requirement already satisfied: aiohttp in /usr/local/lib/python3.11/dist-packages (from litellm) (3.11.15)\n",
            "Requirement already satisfied: click in /usr/local/lib/python3.11/dist-packages (from litellm) (8.2.1)\n",
            "Requirement already satisfied: httpx>=0.23.0 in /usr/local/lib/python3.11/dist-packages (from litellm) (0.28.1)\n",
            "Requirement already satisfied: importlib-metadata>=6.8.0 in /usr/local/lib/python3.11/dist-packages (from litellm) (8.7.0)\n",
            "Requirement already satisfied: jinja2<4.0.0,>=3.1.2 in /usr/local/lib/python3.11/dist-packages (from litellm) (3.1.6)\n",
            "Requirement already satisfied: jsonschema<5.0.0,>=4.22.0 in /usr/local/lib/python3.11/dist-packages (from litellm) (4.24.0)\n",
            "Requirement already satisfied: openai>=1.68.2 in /usr/local/lib/python3.11/dist-packages (from litellm) (1.86.0)\n",
            "Requirement already satisfied: pydantic<3.0.0,>=2.0.0 in /usr/local/lib/python3.11/dist-packages (from litellm) (2.11.7)\n",
            "Requirement already satisfied: python-dotenv>=0.2.0 in /usr/local/lib/python3.11/dist-packages (from litellm) (1.1.0)\n",
            "Requirement already satisfied: tiktoken>=0.7.0 in /usr/local/lib/python3.11/dist-packages (from litellm) (0.9.0)\n",
            "Requirement already satisfied: tokenizers in /usr/local/lib/python3.11/dist-packages (from litellm) (0.21.1)\n",
            "Requirement already satisfied: anyio in /usr/local/lib/python3.11/dist-packages (from httpx>=0.23.0->litellm) (4.9.0)\n",
            "Requirement already satisfied: certifi in /usr/local/lib/python3.11/dist-packages (from httpx>=0.23.0->litellm) (2025.6.15)\n",
            "Requirement already satisfied: httpcore==1.* in /usr/local/lib/python3.11/dist-packages (from httpx>=0.23.0->litellm) (1.0.9)\n",
            "Requirement already satisfied: idna in /usr/local/lib/python3.11/dist-packages (from httpx>=0.23.0->litellm) (3.10)\n",
            "Requirement already satisfied: h11>=0.16 in /usr/local/lib/python3.11/dist-packages (from httpcore==1.*->httpx>=0.23.0->litellm) (0.16.0)\n",
            "Requirement already satisfied: zipp>=3.20 in /usr/local/lib/python3.11/dist-packages (from importlib-metadata>=6.8.0->litellm) (3.23.0)\n",
            "Requirement already satisfied: MarkupSafe>=2.0 in /usr/local/lib/python3.11/dist-packages (from jinja2<4.0.0,>=3.1.2->litellm) (3.0.2)\n",
            "Requirement already satisfied: attrs>=22.2.0 in /usr/local/lib/python3.11/dist-packages (from jsonschema<5.0.0,>=4.22.0->litellm) (25.3.0)\n",
            "Requirement already satisfied: jsonschema-specifications>=2023.03.6 in /usr/local/lib/python3.11/dist-packages (from jsonschema<5.0.0,>=4.22.0->litellm) (2025.4.1)\n",
            "Requirement already satisfied: referencing>=0.28.4 in /usr/local/lib/python3.11/dist-packages (from jsonschema<5.0.0,>=4.22.0->litellm) (0.36.2)\n",
            "Requirement already satisfied: rpds-py>=0.7.1 in /usr/local/lib/python3.11/dist-packages (from jsonschema<5.0.0,>=4.22.0->litellm) (0.25.1)\n",
            "Requirement already satisfied: distro<2,>=1.7.0 in /usr/local/lib/python3.11/dist-packages (from openai>=1.68.2->litellm) (1.9.0)\n",
            "Requirement already satisfied: jiter<1,>=0.4.0 in /usr/local/lib/python3.11/dist-packages (from openai>=1.68.2->litellm) (0.10.0)\n",
            "Requirement already satisfied: sniffio in /usr/local/lib/python3.11/dist-packages (from openai>=1.68.2->litellm) (1.3.1)\n",
            "Requirement already satisfied: tqdm>4 in /usr/local/lib/python3.11/dist-packages (from openai>=1.68.2->litellm) (4.67.1)\n",
            "Requirement already satisfied: typing-extensions<5,>=4.11 in /usr/local/lib/python3.11/dist-packages (from openai>=1.68.2->litellm) (4.14.0)\n",
            "Requirement already satisfied: annotated-types>=0.6.0 in /usr/local/lib/python3.11/dist-packages (from pydantic<3.0.0,>=2.0.0->litellm) (0.7.0)\n",
            "Requirement already satisfied: pydantic-core==2.33.2 in /usr/local/lib/python3.11/dist-packages (from pydantic<3.0.0,>=2.0.0->litellm) (2.33.2)\n",
            "Requirement already satisfied: typing-inspection>=0.4.0 in /usr/local/lib/python3.11/dist-packages (from pydantic<3.0.0,>=2.0.0->litellm) (0.4.1)\n",
            "Requirement already satisfied: regex>=2022.1.18 in /usr/local/lib/python3.11/dist-packages (from tiktoken>=0.7.0->litellm) (2024.11.6)\n",
            "Requirement already satisfied: requests>=2.26.0 in /usr/local/lib/python3.11/dist-packages (from tiktoken>=0.7.0->litellm) (2.32.4)\n",
            "Requirement already satisfied: aiohappyeyeballs>=2.3.0 in /usr/local/lib/python3.11/dist-packages (from aiohttp->litellm) (2.6.1)\n",
            "Requirement already satisfied: aiosignal>=1.1.2 in /usr/local/lib/python3.11/dist-packages (from aiohttp->litellm) (1.3.2)\n",
            "Requirement already satisfied: frozenlist>=1.1.1 in /usr/local/lib/python3.11/dist-packages (from aiohttp->litellm) (1.7.0)\n",
            "Requirement already satisfied: multidict<7.0,>=4.5 in /usr/local/lib/python3.11/dist-packages (from aiohttp->litellm) (6.4.4)\n",
            "Requirement already satisfied: propcache>=0.2.0 in /usr/local/lib/python3.11/dist-packages (from aiohttp->litellm) (0.3.2)\n",
            "Requirement already satisfied: yarl<2.0,>=1.17.0 in /usr/local/lib/python3.11/dist-packages (from aiohttp->litellm) (1.20.1)\n",
            "Requirement already satisfied: huggingface-hub<1.0,>=0.16.4 in /usr/local/lib/python3.11/dist-packages (from tokenizers->litellm) (0.33.0)\n",
            "Requirement already satisfied: filelock in /usr/local/lib/python3.11/dist-packages (from huggingface-hub<1.0,>=0.16.4->tokenizers->litellm) (3.18.0)\n",
            "Requirement already satisfied: fsspec>=2023.5.0 in /usr/local/lib/python3.11/dist-packages (from huggingface-hub<1.0,>=0.16.4->tokenizers->litellm) (2025.3.2)\n",
            "Requirement already satisfied: packaging>=20.9 in /usr/local/lib/python3.11/dist-packages (from huggingface-hub<1.0,>=0.16.4->tokenizers->litellm) (24.2)\n",
            "Requirement already satisfied: pyyaml>=5.1 in /usr/local/lib/python3.11/dist-packages (from huggingface-hub<1.0,>=0.16.4->tokenizers->litellm) (6.0.2)\n",
            "Requirement already satisfied: hf-xet<2.0.0,>=1.1.2 in /usr/local/lib/python3.11/dist-packages (from huggingface-hub<1.0,>=0.16.4->tokenizers->litellm) (1.1.3)\n",
            "Requirement already satisfied: charset_normalizer<4,>=2 in /usr/local/lib/python3.11/dist-packages (from requests>=2.26.0->tiktoken>=0.7.0->litellm) (3.4.2)\n",
            "Requirement already satisfied: urllib3<3,>=1.21.1 in /usr/local/lib/python3.11/dist-packages (from requests>=2.26.0->tiktoken>=0.7.0->litellm) (2.4.0)\n"
          ]
        }
      ]
    },
    {
      "cell_type": "code",
      "source": [
        "# @title install ollama\n",
        "!curl https://ollama.ai/install.sh | sh"
      ],
      "metadata": {
        "colab": {
          "base_uri": "https://localhost:8080/"
        },
        "id": "kZUj5zkzDwrw",
        "outputId": "48e568d7-edc7-400d-9916-e2e4c51a29b6"
      },
      "execution_count": null,
      "outputs": [
        {
          "output_type": "stream",
          "name": "stdout",
          "text": [
            "  % Total    % Received % Xferd  Average Speed   Time    Time     Time  Current\n",
            "                                 Dload  Upload   Total   Spent    Left  Speed\n",
            "100 13281    0 13281    0     0  48415      0 --:--:-- --:--:-- --:--:-- 48470\n",
            ">>> Installing ollama to /usr/local\n",
            ">>> Downloading Linux amd64 bundle\n",
            "######################################################################## 100.0%\n",
            ">>> Creating ollama user...\n",
            ">>> Adding ollama user to video group...\n",
            ">>> Adding current user to ollama group...\n",
            ">>> Creating ollama systemd service...\n",
            "\u001b[1m\u001b[31mWARNING:\u001b[m systemd is not running\n",
            "\u001b[1m\u001b[31mWARNING:\u001b[m Unable to detect NVIDIA/AMD GPU. Install lspci or lshw to automatically detect and install GPU dependencies.\n",
            ">>> The Ollama API is now available at 127.0.0.1:11434.\n",
            ">>> Install complete. Run \"ollama\" from the command line.\n"
          ]
        }
      ]
    },
    {
      "cell_type": "code",
      "source": [
        "!nohup ollama serve &"
      ],
      "metadata": {
        "colab": {
          "base_uri": "https://localhost:8080/"
        },
        "id": "iOfk7IeYDzu1",
        "outputId": "8a8df23f-c87f-4a8d-87a7-f534ee3f8e4c"
      },
      "execution_count": null,
      "outputs": [
        {
          "output_type": "stream",
          "name": "stdout",
          "text": [
            "nohup: appending output to 'nohup.out'\n"
          ]
        }
      ]
    },
    {
      "cell_type": "code",
      "source": [
        "#Download model\n",
        "\n",
        "!ollama pull llama3-groq-tool-use:8b"
      ],
      "metadata": {
        "colab": {
          "base_uri": "https://localhost:8080/"
        },
        "id": "RapcJ75-D8nb",
        "outputId": "636f92b4-53be-4911-d315-89918776a31b"
      },
      "execution_count": null,
      "outputs": [
        {
          "output_type": "stream",
          "name": "stdout",
          "text": [
            "\u001b[?2026h\u001b[?25l\u001b[1G\u001b[?25h\u001b[?2026l\u001b[?2026h\u001b[?25l\u001b[1G\u001b[?25h\u001b[?2026l\u001b[?2026h\u001b[?25l\u001b[1G\u001b[?25h\u001b[?2026l\u001b[?2026h\u001b[?25l\u001b[1G\u001b[?25h\u001b[?2026l\n"
          ]
        }
      ]
    },
    {
      "cell_type": "code",
      "source": [
        "# @title Import necessary libraries\n",
        "import os\n",
        "import asyncio\n",
        "from google.adk.agents import Agent\n",
        "from google.adk.models.lite_llm import LiteLlm # For multi-model support\n",
        "from google.adk.sessions import InMemorySessionService\n",
        "from google.adk.runners import Runner\n",
        "from google.genai import types # For creating message Content/Parts\n",
        "\n",
        "import warnings\n",
        "# Ignore all warnings\n",
        "warnings.filterwarnings(\"ignore\")\n",
        "\n",
        "import logging\n",
        "logging.basicConfig(level=logging.ERROR)\n",
        "\n",
        "print(\"Libraries imported.\")"
      ],
      "metadata": {
        "colab": {
          "base_uri": "https://localhost:8080/"
        },
        "id": "23tbAVECD9ys",
        "outputId": "90525268-2a6f-46de-e4fc-0824774044b1"
      },
      "execution_count": null,
      "outputs": [
        {
          "output_type": "stream",
          "name": "stdout",
          "text": [
            "Libraries imported.\n"
          ]
        }
      ]
    },
    {
      "cell_type": "code",
      "source": [
        "# --- Define Model Constants for easier use ---\n",
        "MODEL_GWEN2_7B = \"qwen2:7b\""
      ],
      "metadata": {
        "id": "DjuUhbBKEJsp"
      },
      "execution_count": null,
      "outputs": []
    },
    {
      "cell_type": "code",
      "source": [
        "# @title Define the get_weather Tool\n",
        "def get_weather(city: str) -> dict:\n",
        "    \"\"\"Retrieves the current weather report for a specified city.\n",
        "\n",
        "    Args:\n",
        "        city (str): The name of the city (e.g., \"New York\", \"London\", \"Tokyo\").\n",
        "\n",
        "    Returns:\n",
        "        dict: A dictionary containing the weather information.\n",
        "              Includes a 'status' key ('success' or 'error').\n",
        "              If 'success', includes a 'report' key with weather details.\n",
        "              If 'error', includes an 'error_message' key.\n",
        "    \"\"\"\n",
        "    print(f\"--- Tool: get_weather called for city: {city} ---\") # Log tool execution\n",
        "    city_normalized = city.lower().replace(\" \", \"\") # Basic normalization\n",
        "\n",
        "    # Mock weather data\n",
        "    mock_weather_db = {\n",
        "        \"newyork\": {\"status\": \"success\", \"report\": \"The weather in New York is sunny with a temperature of 25°C.\"},\n",
        "        \"london\": {\"status\": \"success\", \"report\": \"It's cloudy in London with a temperature of 15°C.\"},\n",
        "        \"tokyo\": {\"status\": \"success\", \"report\": \"Tokyo is experiencing light rain and a temperature of 18°C.\"},\n",
        "    }\n",
        "\n",
        "    if city_normalized in mock_weather_db:\n",
        "        return mock_weather_db[city_normalized]\n",
        "    else:\n",
        "        return {\"status\": \"error\", \"error_message\": f\"Sorry, I don't have weather information for '{city}'.\"}\n",
        "\n",
        "# Example tool usage (optional test)\n",
        "print(get_weather(\"New York\"))\n",
        "print(get_weather(\"Paris\"))"
      ],
      "metadata": {
        "colab": {
          "base_uri": "https://localhost:8080/"
        },
        "id": "aO1D9IpvEKkB",
        "outputId": "14f56613-7da0-4fbc-e1ed-6380b21438b3"
      },
      "execution_count": null,
      "outputs": [
        {
          "output_type": "stream",
          "name": "stdout",
          "text": [
            "--- Tool: get_weather called for city: New York ---\n",
            "{'status': 'success', 'report': 'The weather in New York is sunny with a temperature of 25°C.'}\n",
            "--- Tool: get_weather called for city: Paris ---\n",
            "{'status': 'error', 'error_message': \"Sorry, I don't have weather information for 'Paris'.\"}\n"
          ]
        }
      ]
    },
    {
      "cell_type": "code",
      "source": [
        "from playwright.async_api import async_playwright\n",
        "import asyncio\n",
        "\n",
        "async def search_web_playwright(query: str):\n",
        "    async with async_playwright() as p:\n",
        "      #lauch browser\n",
        "      brower = await p.chromium.launch(headless= True)\n",
        "\n",
        "      #create a new tab\n",
        "      page = await brower.new_page()\n",
        "\n",
        "      await page.goto(\"https://www.bing.com/\")\n",
        "\n",
        "      await page.fill('textarea[name=\"q\"]', query)\n",
        "      await page.press('textarea[name=\"q\"]', \"Enter\")\n",
        "\n",
        "      # Đợi kết quả xuất hiện\n",
        "      await page.wait_for_selector(\"#b_results\", timeout=10000)\n",
        "\n",
        "      # Lấy 3 kết quả đầu tiên\n",
        "      results = []\n",
        "      items = page.locator(\"li.b_algo h2 a\").nth(0).locator(\"xpath=ancestor::li\").locator(\"h2 a\")\n",
        "      links = page.locator(\"li.b_algo h2 a\")\n",
        "\n",
        "      count = await links.count()\n",
        "      for i in range(min(3, count)):\n",
        "          link = links.nth(i)\n",
        "          title = await link.inner_text()\n",
        "          href = await link.get_attribute(\"href\")\n",
        "          results.append({\"title\": title, \"link\": href})\n",
        "\n",
        "      await page.close()\n",
        "      return results"
      ],
      "metadata": {
        "id": "dAxHTEooeaIm"
      },
      "execution_count": null,
      "outputs": []
    },
    {
      "cell_type": "code",
      "source": [
        "# @title Define the search_web Tool\n",
        "def search_web(search_term: str) -> list:\n",
        "    \"\"\"Retrieves the search results of search term.\n",
        "\n",
        "    Args:\n",
        "        search_term (str): user input.\n",
        "\n",
        "    Returns:\n",
        "        list: A list contant first three results of search.\n",
        "              Includes a 'Title' key and 'Link' value.\n",
        "\n",
        "    \"\"\"\n",
        "    try:\n",
        "          # Run async function in event loop\n",
        "          if asyncio.get_event_loop().is_running():\n",
        "              # If already in async context, create new event loop\n",
        "              import nest_asyncio\n",
        "              nest_asyncio.apply()\n",
        "              loop = asyncio.new_event_loop()\n",
        "              asyncio.set_event_loop(loop)\n",
        "              results = loop.run_until_complete(search_web_playwright(search_term))\n",
        "              loop.close()\n",
        "          else:\n",
        "              # If not in async context, use normal run\n",
        "              results = asyncio.run(search_web_playwright(search_term))\n",
        "\n",
        "          # Format results as string for agent\n",
        "          if results and len(results) > 0:\n",
        "             return results\n",
        "          else:\n",
        "              return f\"No results found for '{search_term}'\"\n",
        "\n",
        "    except Exception as e:\n",
        "          return f\"Search error: {str(e)}\""
      ],
      "metadata": {
        "id": "R0_Te7-8EcFb"
      },
      "execution_count": null,
      "outputs": []
    },
    {
      "cell_type": "code",
      "source": [
        "# --- Web Search Agent ---\n",
        "web_search_agent = None\n",
        "try:\n",
        "    web_search_agent = Agent(\n",
        "        model = LiteLlm(model=f\"ollama/{MODEL_GWEN2_7B}\"),\n",
        "        name=\"web_search_agent\",\n",
        "        instruction=\"You are the Web Search Agent. Your ONLY task is search something and provide infomation for user. \"\n",
        "                    \"For all general questions (not about weather), use FunctionCall with name 'search_web' and args {'search_term': ...}\"\n",
        "                    \"Use the 'search_web' tool to search about something. \"\n",
        "                    \"If the user provides key work, make sure to pass it to the tool. \"\n",
        "                    \"If the tool is successful, present the search result clearly.\"\n",
        "                    \"Do not engage in any other conversation or tasks.\",\n",
        "        description=\"Handles question about something of user\",\n",
        "        tools=[search_web],\n",
        "    )\n",
        "    print(f\"✅ Agent '{web_search_agent.name}' created using model '{web_search_agent.model}'.\")\n",
        "except Exception as e:\n",
        "    print(f\"❌ Could not create Web search agent. Check API Key ({web_search_agent.model}). Error: {e}\")\n",
        "\n",
        "\n",
        "\n",
        "weather_agent = Agent(\n",
        "    name=\"weather_agent_v1\",\n",
        "    model=LiteLlm(model=f\"ollama/{MODEL_GWEN2_7B}\"), # Can be a string for Gemini or a LiteLlm object\n",
        "    description=\"Provides weather information for specific cities.\",\n",
        "    instruction=\"You are a helpful weather assistant. \"\n",
        "                \"When the user asks for the weather in a specific city, \"\n",
        "                \"use the 'get_weather' tool to find the information. \"\n",
        "                \"If the tool returns an error, inform the user politely. \"\n",
        "                \"If the tool is successful, present the weather report clearly.\",\n",
        "    tools=[get_weather], # Pass the function directly\n",
        ")\n",
        "\n",
        "print(f\"Agent '{weather_agent.name}' created using model '{MODEL_GWEN2_7B}'.\")\n",
        "\n",
        "# @title Define Greeting and Farewell Sub-Agents\n",
        "\n",
        "# If you want to use models other than Gemini, Ensure LiteLlm is imported and API keys are set (from Step 0/2)\n",
        "# from google.adk.models.lite_llm import LiteLlm\n",
        "# MODEL_GPT_4O, MODEL_CLAUDE_SONNET etc. should be defined\n",
        "# Or else, continue to use: model = MODEL_GEMINI_2_0_FLASH\n",
        "\n"
      ],
      "metadata": {
        "colab": {
          "base_uri": "https://localhost:8080/"
        },
        "id": "Bj-GZqTLELrW",
        "outputId": "005b245f-a972-4332-9ea8-57ebd002509e"
      },
      "execution_count": null,
      "outputs": [
        {
          "output_type": "stream",
          "name": "stdout",
          "text": [
            "✅ Agent 'web_search_agent' created using model 'model='ollama/qwen2:7b' llm_client=<google.adk.models.lite_llm.LiteLLMClient object at 0x797aabfe4150>'.\n",
            "Agent 'weather_agent_v1' created using model 'qwen2:7b'.\n"
          ]
        }
      ]
    },
    {
      "cell_type": "code",
      "source": [
        "# @title Define the Root Agent with Sub-Agents\n",
        "\n",
        "# Ensure sub-agents were created successfully before defining the root agent.\n",
        "# Also ensure the original 'get_weather' tool is defined.\n",
        "root_agent = None\n",
        "runner_root = None # Initialize runner\n",
        "if web_search_agent and 'get_weather' in globals():\n",
        "    weather_agent_team = Agent(\n",
        "        name=\"weather_agent_v2\", # Give it a new version name\n",
        "        model=LiteLlm(model=f\"ollama/{MODEL_GWEN2_7B}\"),\n",
        "        description=\"The main coordinator agent. Handles weather requests and delegates web search of specialists to sub agents.\",\n",
        "         instruction=\"\"\"\n",
        "              You are a coordinator agent. Your job is to route each user request to the correct sub-agent or tool.\n",
        "              \"You have specialized sub-agents: \"\n",
        "                    \"1. 'web_search_agent': Handle user question when user ask you to search something \"\n",
        "              \"Analyze the user's query. If user ask you to search something, delegate to 'web_search_agent'. \"\n",
        "              \"If it's a request you search about something delegate to 'web_search_agent'. If it's a weather request, handle it yourself using 'get_weather'. \"\n",
        "              \"For anything else, respond appropriately or state you cannot handle it.\"\n",
        "              \"\"\",\n",
        "        tools=[get_weather], # Root agent needs the weather tool for its core task\n",
        "        # Key change: Link the sub-agents here!\n",
        "        sub_agents=[web_search_agent], # Pass the agent instance, not the function,\n",
        "        # before_model_callback=merge_text, # Optional callback function\n",
        "    )\n",
        "    print(f\"✅ Root Agent '{weather_agent_team.name}' created using model '{MODEL_GWEN2_7B}' with sub-agents: {[sa.name for sa in weather_agent_team.sub_agents]}\")\n",
        "\n",
        "else:\n",
        "    print(\"❌ Cannot create root agent because one or more sub-agents failed to initialize or 'get_weather' tool is missing.\")\n",
        "    if not web_search_agent: print(\" - Web Search Agent is missing.\")\n",
        "    if 'get_weather' not in globals(): print(\" - get_weather function is missing.\")"
      ],
      "metadata": {
        "colab": {
          "base_uri": "https://localhost:8080/",
          "height": 402
        },
        "id": "Q4qVO8ulFN4Z",
        "outputId": "90add85b-c4bb-4b4c-bdde-5207255227a6"
      },
      "execution_count": null,
      "outputs": [
        {
          "output_type": "error",
          "ename": "ValidationError",
          "evalue": "1 validation error for LlmAgent\n  Value error, Agent `web_search_agent` already has a parent agent, current parent: `weather_agent_v2`, trying to add: `weather_agent_v2` [type=value_error, input_value={'name': 'weather_agent_v...er_tool_callback=None)]}, input_type=dict]\n    For further information visit https://errors.pydantic.dev/2.11/v/value_error",
          "traceback": [
            "\u001b[0;31m---------------------------------------------------------------------------\u001b[0m",
            "\u001b[0;31mValidationError\u001b[0m                           Traceback (most recent call last)",
            "\u001b[0;32m/tmp/ipython-input-380-1492033110.py\u001b[0m in \u001b[0;36m<cell line: 0>\u001b[0;34m()\u001b[0m\n\u001b[1;32m      6\u001b[0m \u001b[0mrunner_root\u001b[0m \u001b[0;34m=\u001b[0m \u001b[0;32mNone\u001b[0m \u001b[0;31m# Initialize runner\u001b[0m\u001b[0;34m\u001b[0m\u001b[0;34m\u001b[0m\u001b[0m\n\u001b[1;32m      7\u001b[0m \u001b[0;32mif\u001b[0m \u001b[0mweb_search_agent\u001b[0m \u001b[0;32mand\u001b[0m \u001b[0;34m'get_weather'\u001b[0m \u001b[0;32min\u001b[0m \u001b[0mglobals\u001b[0m\u001b[0;34m(\u001b[0m\u001b[0;34m)\u001b[0m\u001b[0;34m:\u001b[0m\u001b[0;34m\u001b[0m\u001b[0;34m\u001b[0m\u001b[0m\n\u001b[0;32m----> 8\u001b[0;31m     weather_agent_team = Agent(\n\u001b[0m\u001b[1;32m      9\u001b[0m         \u001b[0mname\u001b[0m\u001b[0;34m=\u001b[0m\u001b[0;34m\"weather_agent_v2\"\u001b[0m\u001b[0;34m,\u001b[0m \u001b[0;31m# Give it a new version name\u001b[0m\u001b[0;34m\u001b[0m\u001b[0;34m\u001b[0m\u001b[0m\n\u001b[1;32m     10\u001b[0m         \u001b[0mmodel\u001b[0m\u001b[0;34m=\u001b[0m\u001b[0mLiteLlm\u001b[0m\u001b[0;34m(\u001b[0m\u001b[0mmodel\u001b[0m\u001b[0;34m=\u001b[0m\u001b[0;34mf\"ollama/{MODEL_GWEN2_7B}\"\u001b[0m\u001b[0;34m)\u001b[0m\u001b[0;34m,\u001b[0m\u001b[0;34m\u001b[0m\u001b[0;34m\u001b[0m\u001b[0m\n",
            "\u001b[0;32m/usr/local/lib/python3.11/dist-packages/pydantic/main.py\u001b[0m in \u001b[0;36m__init__\u001b[0;34m(self, **data)\u001b[0m\n\u001b[1;32m    251\u001b[0m         \u001b[0;31m# `__tracebackhide__` tells pytest and some other tools to omit this function from tracebacks\u001b[0m\u001b[0;34m\u001b[0m\u001b[0;34m\u001b[0m\u001b[0m\n\u001b[1;32m    252\u001b[0m         \u001b[0m__tracebackhide__\u001b[0m \u001b[0;34m=\u001b[0m \u001b[0;32mTrue\u001b[0m\u001b[0;34m\u001b[0m\u001b[0;34m\u001b[0m\u001b[0m\n\u001b[0;32m--> 253\u001b[0;31m         \u001b[0mvalidated_self\u001b[0m \u001b[0;34m=\u001b[0m \u001b[0mself\u001b[0m\u001b[0;34m.\u001b[0m\u001b[0m__pydantic_validator__\u001b[0m\u001b[0;34m.\u001b[0m\u001b[0mvalidate_python\u001b[0m\u001b[0;34m(\u001b[0m\u001b[0mdata\u001b[0m\u001b[0;34m,\u001b[0m \u001b[0mself_instance\u001b[0m\u001b[0;34m=\u001b[0m\u001b[0mself\u001b[0m\u001b[0;34m)\u001b[0m\u001b[0;34m\u001b[0m\u001b[0;34m\u001b[0m\u001b[0m\n\u001b[0m\u001b[1;32m    254\u001b[0m         \u001b[0;32mif\u001b[0m \u001b[0mself\u001b[0m \u001b[0;32mis\u001b[0m \u001b[0;32mnot\u001b[0m \u001b[0mvalidated_self\u001b[0m\u001b[0;34m:\u001b[0m\u001b[0;34m\u001b[0m\u001b[0;34m\u001b[0m\u001b[0m\n\u001b[1;32m    255\u001b[0m             warnings.warn(\n",
            "\u001b[0;31mValidationError\u001b[0m: 1 validation error for LlmAgent\n  Value error, Agent `web_search_agent` already has a parent agent, current parent: `weather_agent_v2`, trying to add: `weather_agent_v2` [type=value_error, input_value={'name': 'weather_agent_v...er_tool_callback=None)]}, input_type=dict]\n    For further information visit https://errors.pydantic.dev/2.11/v/value_error"
          ]
        }
      ]
    },
    {
      "cell_type": "code",
      "source": [
        "# @title Setup Session Service and Runner\n",
        "\n",
        "# --- Session Management ---\n",
        "# Key Concept: SessionService stores conversation history & state.\n",
        "# InMemorySessionService is simple, non-persistent storage for this tutorial.\n",
        "session_service = InMemorySessionService()\n",
        "\n",
        "# Define constants for identifying the interaction context\n",
        "APP_NAME = \"weather_tutorial_app\"\n",
        "USER_ID = \"user_1\"\n",
        "SESSION_ID = \"session_001\" # Using a fixed ID for simplicity\n",
        "\n",
        "# Create the specific session where the conversation will happen\n",
        "session = await session_service.create_session(\n",
        "    app_name=APP_NAME,\n",
        "    user_id=USER_ID,\n",
        "    session_id=SESSION_ID\n",
        ")\n",
        "\n",
        "print(f\"Session created: App='{APP_NAME}', User='{USER_ID}', Session='{SESSION_ID}'\")\n",
        "\n",
        "# --- Runner ---\n",
        "# Key Concept: Runner orchestrates the agent execution loop.\n",
        "runner = Runner(\n",
        "    agent=weather_agent_team, # The agent we want to run\n",
        "    app_name=APP_NAME,   # Associates runs with our app\n",
        "    session_service=session_service # Uses our session manager\n",
        ")\n",
        "\n",
        "print(f\"Runner created for agent '{runner.agent.name}'.\")"
      ],
      "metadata": {
        "colab": {
          "base_uri": "https://localhost:8080/"
        },
        "id": "eN-BciLMEMtm",
        "outputId": "b683736f-557c-4f1d-c1ea-1833995cf8b0"
      },
      "execution_count": null,
      "outputs": [
        {
          "output_type": "stream",
          "name": "stdout",
          "text": [
            "Session created: App='weather_tutorial_app', User='user_1', Session='session_001'\n",
            "Runner created for agent 'weather_agent_v2'.\n"
          ]
        }
      ]
    },
    {
      "cell_type": "code",
      "source": [
        "# @title Define Agent Interaction Function\n",
        "\n",
        "from google.genai import types # For creating message Content/Parts\n",
        "\n",
        "async def call_agent_async(query: str, runner, user_id, session_id):\n",
        "  \"\"\"Sends a query to the agent and prints the final response.\"\"\"\n",
        "  print(f\"\\n>>> User Query: {query}\")\n",
        "\n",
        "  # Prepare the user's message in ADK format\n",
        "  content = types.Content(role='user', parts=[types.Part(text=query)])\n",
        "\n",
        "  final_response_text = \"Agent did not produce a final response.\" # Default\n",
        "\n",
        "  # Key Concept: run_async executes the agent logic and yields Events.\n",
        "  # We iterate through events to find the final answer.\n",
        "  async for event in runner.run_async(user_id=user_id, session_id=session_id, new_message=content):\n",
        "      # You can uncomment the line below to see *all* events during execution\n",
        "      print(f\"  [Event] Author: {event.author}, Type: {type(event).__name__}, Final: {event.is_final_response()}, Content: {event.content}\")\n",
        "\n",
        "      # Key Concept: is_final_response() marks the concluding message for the turn.\n",
        "      if event.is_final_response():\n",
        "          if event.content and event.content.parts:\n",
        "             # Assuming text response in the first part\n",
        "             final_response_text = event.content.parts[0].text\n",
        "          elif event.actions and event.actions.escalate: # Handle potential errors/escalations\n",
        "             final_response_text = f\"Agent escalated: {event.error_message or 'No specific message.'}\"\n",
        "          # Add more checks here if needed (e.g., specific error codes)\n",
        "          break # Stop processing events once the final response is found\n",
        "\n",
        "  print(f\"<<< Agent Response: {final_response_text}\")"
      ],
      "metadata": {
        "id": "Qw4lZAeHEN0F"
      },
      "execution_count": null,
      "outputs": []
    },
    {
      "cell_type": "code",
      "source": [
        "# @title Run the Initial Conversation\n",
        "\n",
        "# We need an async function to await our interaction helper\n",
        "async def run_conversation():\n",
        "    await call_agent_async(\"What is the weather like in London?\",\n",
        "                                       runner=runner,\n",
        "                                       user_id=USER_ID,\n",
        "                                       session_id=SESSION_ID)\n",
        "\n",
        "    await call_agent_async(\"Search for me 'What is Google'\",\n",
        "                                       runner=runner,\n",
        "                                       user_id=USER_ID,\n",
        "                                       session_id=SESSION_ID) # Expecting the tool's error message\n",
        "\n",
        "\n",
        "# Execute the conversation using await in an async context (like Colab/Jupyter)\n",
        "await run_conversation()"
      ],
      "metadata": {
        "colab": {
          "base_uri": "https://localhost:8080/"
        },
        "id": "UrlwLhmqEPQV",
        "outputId": "9fde74c4-ddea-4ec8-e28f-18955d1fcd15"
      },
      "execution_count": null,
      "outputs": [
        {
          "output_type": "stream",
          "name": "stdout",
          "text": [
            "\n",
            ">>> User Query: What is the weather like in London?\n",
            "  [Event] Author: weather_agent_v2, Type: Event, Final: False, Content: parts=[Part(video_metadata=None, thought=None, inline_data=None, file_data=None, thought_signature=None, code_execution_result=None, executable_code=None, function_call=FunctionCall(id='call_d313660e-8c16-4d48-b6ab-c4c8d409bd7f', args={'city': 'London'}, name='get_weather'), function_response=None, text=None)] role='model'\n",
            "--- Tool: get_weather called for city: London ---\n",
            "  [Event] Author: weather_agent_v2, Type: Event, Final: False, Content: parts=[Part(video_metadata=None, thought=None, inline_data=None, file_data=None, thought_signature=None, code_execution_result=None, executable_code=None, function_call=None, function_response=FunctionResponse(will_continue=None, scheduling=None, id='call_d313660e-8c16-4d48-b6ab-c4c8d409bd7f', name='get_weather', response={'status': 'success', 'report': \"It's cloudy in London with a temperature of 15°C.\"}), text=None)] role='user'\n",
            "  [Event] Author: weather_agent_v2, Type: Event, Final: False, Content: parts=[Part(video_metadata=None, thought=None, inline_data=None, file_data=None, thought_signature=None, code_execution_result=None, executable_code=None, function_call=FunctionCall(id='call_2a35bd28-c21a-4c00-a2e6-3d55d3d1f669', args={'city': 'London'}, name='get_weather'), function_response=None, text=None)] role='model'\n",
            "--- Tool: get_weather called for city: London ---\n",
            "  [Event] Author: weather_agent_v2, Type: Event, Final: False, Content: parts=[Part(video_metadata=None, thought=None, inline_data=None, file_data=None, thought_signature=None, code_execution_result=None, executable_code=None, function_call=None, function_response=FunctionResponse(will_continue=None, scheduling=None, id='call_2a35bd28-c21a-4c00-a2e6-3d55d3d1f669', name='get_weather', response={'status': 'success', 'report': \"It's cloudy in London with a temperature of 15°C.\"}), text=None)] role='user'\n",
            "  [Event] Author: weather_agent_v2, Type: Event, Final: False, Content: parts=[Part(video_metadata=None, thought=None, inline_data=None, file_data=None, thought_signature=None, code_execution_result=None, executable_code=None, function_call=FunctionCall(id='call_1db1ef0b-8b6a-4c7e-a3ac-c76dc65a8d4f', args={'city': 'London'}, name='get_weather'), function_response=None, text=None)] role='model'\n",
            "--- Tool: get_weather called for city: London ---\n",
            "  [Event] Author: weather_agent_v2, Type: Event, Final: False, Content: parts=[Part(video_metadata=None, thought=None, inline_data=None, file_data=None, thought_signature=None, code_execution_result=None, executable_code=None, function_call=None, function_response=FunctionResponse(will_continue=None, scheduling=None, id='call_1db1ef0b-8b6a-4c7e-a3ac-c76dc65a8d4f', name='get_weather', response={'status': 'success', 'report': \"It's cloudy in London with a temperature of 15°C.\"}), text=None)] role='user'\n",
            "  [Event] Author: weather_agent_v2, Type: Event, Final: False, Content: parts=[Part(video_metadata=None, thought=None, inline_data=None, file_data=None, thought_signature=None, code_execution_result=None, executable_code=None, function_call=FunctionCall(id='call_8a638b27-6da7-4ee0-98a0-d2032e5b5589', args={'city': 'London'}, name='get_weather'), function_response=None, text=None)] role='model'\n",
            "--- Tool: get_weather called for city: London ---\n",
            "  [Event] Author: weather_agent_v2, Type: Event, Final: False, Content: parts=[Part(video_metadata=None, thought=None, inline_data=None, file_data=None, thought_signature=None, code_execution_result=None, executable_code=None, function_call=None, function_response=FunctionResponse(will_continue=None, scheduling=None, id='call_8a638b27-6da7-4ee0-98a0-d2032e5b5589', name='get_weather', response={'status': 'success', 'report': \"It's cloudy in London with a temperature of 15°C.\"}), text=None)] role='user'\n",
            "  [Event] Author: weather_agent_v2, Type: Event, Final: False, Content: parts=[Part(video_metadata=None, thought=None, inline_data=None, file_data=None, thought_signature=None, code_execution_result=None, executable_code=None, function_call=FunctionCall(id='call_2a290375-a707-411c-b258-e93ca5066e61', args={'city': 'London'}, name='get_weather'), function_response=None, text=None)] role='model'\n",
            "--- Tool: get_weather called for city: London ---\n",
            "  [Event] Author: weather_agent_v2, Type: Event, Final: False, Content: parts=[Part(video_metadata=None, thought=None, inline_data=None, file_data=None, thought_signature=None, code_execution_result=None, executable_code=None, function_call=None, function_response=FunctionResponse(will_continue=None, scheduling=None, id='call_2a290375-a707-411c-b258-e93ca5066e61', name='get_weather', response={'status': 'success', 'report': \"It's cloudy in London with a temperature of 15°C.\"}), text=None)] role='user'\n",
            "  [Event] Author: weather_agent_v2, Type: Event, Final: False, Content: parts=[Part(video_metadata=None, thought=None, inline_data=None, file_data=None, thought_signature=None, code_execution_result=None, executable_code=None, function_call=FunctionCall(id='call_db955c80-96fc-43b6-a0a7-20c98a563e45', args={'city': 'London'}, name='get_weather'), function_response=None, text=None)] role='model'\n",
            "--- Tool: get_weather called for city: London ---\n",
            "  [Event] Author: weather_agent_v2, Type: Event, Final: False, Content: parts=[Part(video_metadata=None, thought=None, inline_data=None, file_data=None, thought_signature=None, code_execution_result=None, executable_code=None, function_call=None, function_response=FunctionResponse(will_continue=None, scheduling=None, id='call_db955c80-96fc-43b6-a0a7-20c98a563e45', name='get_weather', response={'status': 'success', 'report': \"It's cloudy in London with a temperature of 15°C.\"}), text=None)] role='user'\n",
            "  [Event] Author: weather_agent_v2, Type: Event, Final: True, Content: parts=[Part(video_metadata=None, thought=None, inline_data=None, file_data=None, thought_signature=None, code_execution_result=None, executable_code=None, function_call=None, function_response=None, text='{\"status\": \"success\", \"report\": \"It\\'s cloudy in London with a temperature of 15\\\\u00b0C.\"}')] role='model'\n",
            "<<< Agent Response: {\"status\": \"success\", \"report\": \"It's cloudy in London with a temperature of 15\\u00b0C.\"}\n",
            "\n",
            ">>> User Query: Search for me 'What is Google'\n",
            "  [Event] Author: weather_agent_v2, Type: Event, Final: False, Content: parts=[Part(video_metadata=None, thought=None, inline_data=None, file_data=None, thought_signature=None, code_execution_result=None, executable_code=None, function_call=FunctionCall(id='call_3714100d-dc5f-40d7-b94c-68f8176eed4a', args={'agent_name': 'web_search_agent'}, name='transfer_to_agent'), function_response=None, text=None)] role='model'\n",
            "  [Event] Author: weather_agent_v2, Type: Event, Final: False, Content: parts=[Part(video_metadata=None, thought=None, inline_data=None, file_data=None, thought_signature=None, code_execution_result=None, executable_code=None, function_call=None, function_response=FunctionResponse(will_continue=None, scheduling=None, id='call_3714100d-dc5f-40d7-b94c-68f8176eed4a', name='transfer_to_agent', response={'result': None}), text=None)] role='user'\n",
            "  [Event] Author: web_search_agent, Type: Event, Final: False, Content: parts=[Part(video_metadata=None, thought=None, inline_data=None, file_data=None, thought_signature=None, code_execution_result=None, executable_code=None, function_call=FunctionCall(id='call_2810d7ef-d937-4494-8b70-24a415a37704', args={'agent_name': 'web_search_agent'}, name='transfer_to_agent'), function_response=None, text=None)] role='model'\n",
            "  [Event] Author: web_search_agent, Type: Event, Final: False, Content: parts=[Part(video_metadata=None, thought=None, inline_data=None, file_data=None, thought_signature=None, code_execution_result=None, executable_code=None, function_call=None, function_response=FunctionResponse(will_continue=None, scheduling=None, id='call_2810d7ef-d937-4494-8b70-24a415a37704', name='transfer_to_agent', response={'result': None}), text=None)] role='user'\n",
            "  [Event] Author: web_search_agent, Type: Event, Final: False, Content: parts=[Part(video_metadata=None, thought=None, inline_data=None, file_data=None, thought_signature=None, code_execution_result=None, executable_code=None, function_call=FunctionCall(id='call_408d7bd0-1bd1-425c-b9ca-cbcc69197128', args={'search_term': 'What is Google'}, name='search_web'), function_response=None, text=None)] role='model'\n",
            "  [Event] Author: web_search_agent, Type: Event, Final: False, Content: parts=[Part(video_metadata=None, thought=None, inline_data=None, file_data=None, thought_signature=None, code_execution_result=None, executable_code=None, function_call=None, function_response=FunctionResponse(will_continue=None, scheduling=None, id='call_408d7bd0-1bd1-425c-b9ca-cbcc69197128', name='search_web', response={'result': [{'title': 'Google - Wikipedia', 'link': 'https://www.bing.com/ck/a?!&&p=f9d3b29a28fcc7152eb8dc3a71fd9a12fb78ac3543c3714ea44480ac2cfc6ce5JmltdHM9MTc1MDI5MTIwMA&ptn=3&ver=2&hsh=4&fclid=12d3f92f-3701-668c-28fd-ef3e36f76732&u=a1aHR0cHM6Ly9lbi53aWtpcGVkaWEub3JnL3dpa2kvR29vZ2xl&ntb=1'}, {'title': 'Google | History & Facts; Products & Services', 'link': 'https://www.bing.com/ck/a?!&&p=7eb606eb9d4303f8342f4ab319ba2e5d2540f255c4fa34664881d0e276408737JmltdHM9MTc1MDI5MTIwMA&ptn=3&ver=2&hsh=4&fclid=12d3f92f-3701-668c-28fd-ef3e36f76732&u=a1aHR0cHM6Ly93d3cuYnJpdGFubmljYS5jb20vbW9uZXkvR29vZ2xlLUluYw&ntb=1'}, {'title': 'How we started and where we are today - Google', 'link': 'https://www.bing.com/ck/a?!&&p=cab716b8eb86ce419242d051d41de44db0b7e49dfa8115a9bab56712b36af9c2JmltdHM9MTc1MDI5MTIwMA&ptn=3&ver=2&hsh=4&fclid=12d3f92f-3701-668c-28fd-ef3e36f76732&u=a1aHR0cHM6Ly9hYm91dC5nb29nbGUvY29tcGFueS1pbmZvL291ci1zdG9yeS8&ntb=1'}]}), text=None)] role='user'\n",
            "  [Event] Author: web_search_agent, Type: Event, Final: True, Content: parts=[Part(video_metadata=None, thought=None, inline_data=None, file_data=None, thought_signature=None, code_execution_result=None, executable_code=None, function_call=None, function_response=None, text='{\"result\": [{\"title\": \"Google - Wikipedia\", \"link\": \"https://www.bing.com/ck/a?!&&p=f9d3b29a28fcc7152eb8dc3a71fd9a12fb78ac3543c3714ea44480ac2cfc6ce5JmltdHM9MTc1MDI5MTIwMA&ptn=3&ver=2&hsh=4&fclid=12d3f92f-3701-668c-28fd-ef3e36f76732&u=a1aHR0cHM6Ly9lbi53aWtpcGVkaWEub3JnL3dpa2kvR29vZ2xl&ntb=1\"}, {\"title\": \"Google | History & Facts; Products & Services\", \"link\": \"https://www.bing.com/ck/a?!&&p=7eb606eb9d4303f8342f4ab319ba2e5d2540f255c4fa34664881d0e276408737JmltdHM9MTc1MDI5MTIwMA&ptn=3&ver=2&hsh=4&fclid=12d3f92f-3701-668c-28fd-ef3e36f76732&u=a1aHR0cHM6Ly93d3cuYnJpdGFubmljYS5jb20vbW9uZXkvR29vZ2xlLUluYw&ntb=1\"}, {\"title\": \"How we started and where we are today - Google\", \"link\": \"https://www.bing.com/ck/a?!&&p=cab716b8eb86ce419242d051d41de44db0b7e49dfa8115a9bab56712b36af9c2JmltdHM9MTc1MDI5MTIwMA&ptn=3&ver=2&hsh=4&fclid=12d3f92f-3701-668c-28fd-ef3e36f76732&u=a1aHR0cHM6Ly9hYm91dC5nb29nbGUvY29tcGFueS1pbmZvL291ci1zdG9yeS8&ntb=1\"}]}')] role='model'\n",
            "<<< Agent Response: {\"result\": [{\"title\": \"Google - Wikipedia\", \"link\": \"https://www.bing.com/ck/a?!&&p=f9d3b29a28fcc7152eb8dc3a71fd9a12fb78ac3543c3714ea44480ac2cfc6ce5JmltdHM9MTc1MDI5MTIwMA&ptn=3&ver=2&hsh=4&fclid=12d3f92f-3701-668c-28fd-ef3e36f76732&u=a1aHR0cHM6Ly9lbi53aWtpcGVkaWEub3JnL3dpa2kvR29vZ2xl&ntb=1\"}, {\"title\": \"Google | History & Facts; Products & Services\", \"link\": \"https://www.bing.com/ck/a?!&&p=7eb606eb9d4303f8342f4ab319ba2e5d2540f255c4fa34664881d0e276408737JmltdHM9MTc1MDI5MTIwMA&ptn=3&ver=2&hsh=4&fclid=12d3f92f-3701-668c-28fd-ef3e36f76732&u=a1aHR0cHM6Ly93d3cuYnJpdGFubmljYS5jb20vbW9uZXkvR29vZ2xlLUluYw&ntb=1\"}, {\"title\": \"How we started and where we are today - Google\", \"link\": \"https://www.bing.com/ck/a?!&&p=cab716b8eb86ce419242d051d41de44db0b7e49dfa8115a9bab56712b36af9c2JmltdHM9MTc1MDI5MTIwMA&ptn=3&ver=2&hsh=4&fclid=12d3f92f-3701-668c-28fd-ef3e36f76732&u=a1aHR0cHM6Ly9hYm91dC5nb29nbGUvY29tcGFueS1pbmZvL291ci1zdG9yeS8&ntb=1\"}]}\n"
          ]
        }
      ]
    },
    {
      "cell_type": "code",
      "source": [],
      "metadata": {
        "id": "tV0KpoS5dAhu"
      },
      "execution_count": null,
      "outputs": []
    }
  ]
}